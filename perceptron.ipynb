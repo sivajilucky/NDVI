{
  "nbformat": 4,
  "nbformat_minor": 0,
  "metadata": {
    "colab": {
      "name": "perceptron",
      "provenance": [],
      "authorship_tag": "ABX9TyNs/D1J+1T4sOagt9Pn0ii4",
      "include_colab_link": true
    },
    "kernelspec": {
      "name": "python3",
      "display_name": "Python 3"
    },
    "language_info": {
      "name": "python"
    }
  },
  "cells": [
    {
      "cell_type": "markdown",
      "metadata": {
        "id": "view-in-github",
        "colab_type": "text"
      },
      "source": [
        "<a href=\"https://colab.research.google.com/github/sivajilucky/NDVI/blob/main/perceptron.ipynb\" target=\"_parent\"><img src=\"https://colab.research.google.com/assets/colab-badge.svg\" alt=\"Open In Colab\"/></a>"
      ]
    },
    {
      "cell_type": "code",
      "execution_count": 1,
      "metadata": {
        "id": "12suVYa3bU7g"
      },
      "outputs": [],
      "source": [
        "import os\n",
        "import matplotlib.pyplot as plt\n",
        "import seaborn as sns\n",
        "import pandas as pd\n",
        "import numpy as np\n",
        "import joblib\n",
        "from matplotlib.colors import ListedColormap"
      ]
    },
    {
      "cell_type": "code",
      "source": [
        "class perceptron:\n",
        "  def __init__(self,eta:float=None,epochs:int=None):\n",
        "      self.weights=np.random.rand(3)*1e-4\n",
        "      training=(eta is not None) and (epochs is not None)\n",
        "      if training:\n",
        "        print(f'initial weights before training:\\n{self.weights}')\n",
        "        self.eta=eta\n",
        "        self.epochs=epochs\n",
        "  def _z_outcome(self):\n",
        "    pass\n",
        "\n",
        "  def activation_function(self):\n",
        "    pass\n",
        "  \n",
        "  def fit(self):\n",
        "    pass\n",
        "\n",
        "\n",
        "  def predict(self):\n",
        "    pass\n",
        "\n",
        "\n",
        "  def total_loss(self):\n",
        "    pass\n",
        "\n",
        "\n",
        "  \n"
      ],
      "metadata": {
        "id": "XgH-WYhXfWQ0"
      },
      "execution_count": null,
      "outputs": []
    }
  ]
}